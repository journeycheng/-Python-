{
 "cells": [
  {
   "cell_type": "markdown",
   "metadata": {},
   "source": [
    "## 堆排序\n",
    "\n",
    "- 利用堆的性质进行的一种选择排序\n",
    "\n",
    "### 堆\n",
    "- 完全二叉树\n",
    "- 任意一非叶子节点的值不大于或者不小于其左右孩子节点的值。key[i]<=(>=) key[2i+1] && key[i]<= (>=) key[2i+2]\n",
    "- 大（小）顶堆：堆顶纪录的是最大（小）关键字\n",
    "\n",
    "### 堆排序\n",
    "- 利用大（小）顶堆堆顶纪录的是最大（小）关键字，使得每次从无序中选择最大（小）记录变的简单\n",
    "- 基本思想（以大顶堆为例）：\n",
    "    - 将初始待排序序列构建成大顶堆\n",
    "    - 将堆顶元素key[0]与最后一个元素key[n-1]交换，此时得到新的无序区\n",
    "    - 对当前无序区调整为新堆，再次将key[0]和最后一个元素交换，得到无序区（key0,key1, ..., keyn-3）和有序区(keyn-2, keyn-1)\n",
    "- 最重要的两个操作是**构造初始堆和调整堆**\n",
    "    - 构造初始堆事实上也是调整堆的过程，只不过构造初始堆是对所有的非叶子节点进行调整\n",
    "    - 每次调整都是从父节点、左孩子节点、右孩子节点中选择最大者与父结点进行交换。交换之后可能造成被交换的孩子节点不满足堆的性质，因此每次交换之后要重新堆被交换的孩子节点进行调整\n",
    "    "
   ]
  },
  {
   "cell_type": "code",
   "execution_count": 18,
   "metadata": {
    "collapsed": true
   },
   "outputs": [],
   "source": [
    "# 调整堆\n",
    "def adjust_heap_max(lists, i, size):\n",
    "    lchild = 2 * i + 1\n",
    "    rchild = 2 * i + 2\n",
    "    maxIndex = i\n",
    "    \n",
    "    if i < size / 2:\n",
    "        if lchild < size and lists[lchild] > lists[maxIndex]:\n",
    "            maxIndex = lchild\n",
    "        if rchild < size and lists[rchild] > lists[maxIndex]:\n",
    "            maxIndex = rchild\n",
    "        if maxIndex != i:\n",
    "            lists[maxIndex], lists[i] = lists[i], lists[maxIndex]\n",
    "            adjust_heap_max(lists, maxIndex, size)\n",
    "\n",
    "# 创建堆\n",
    "def build_heap_max(lists, size):\n",
    "    for i in range(size/2-1, -1, -1):\n",
    "        adjust_heap_max(lists, i, size)\n",
    "        \n",
    "# 堆排序\n",
    "def heap_sort(lists):\n",
    "    size = len(lists)\n",
    "    build_heap_max(lists, size)\n",
    "    for i in range(size-1, -1, -1):\n",
    "        lists[0], lists[i] = lists[i], lists[0]\n",
    "        adjust_heap_max(lists, 0, i)\n",
    "    return lists\n"
   ]
  },
  {
   "cell_type": "code",
   "execution_count": 19,
   "metadata": {
    "collapsed": true
   },
   "outputs": [],
   "source": [
    "import random\n",
    "\n",
    "def get_randomNum(num):\n",
    "    lists = []\n",
    "    i = 0\n",
    "    while i < num:\n",
    "        lists.append(random.randint(0, 100))\n",
    "        i += 1\n",
    "    return lists"
   ]
  },
  {
   "cell_type": "code",
   "execution_count": 20,
   "metadata": {
    "collapsed": false
   },
   "outputs": [
    {
     "name": "stdout",
     "output_type": "stream",
     "text": [
      "[59, 81, 78, 16, 79, 49, 51, 47, 90, 69]\n"
     ]
    }
   ],
   "source": [
    "a = get_randomNum(10)\n",
    "print a"
   ]
  },
  {
   "cell_type": "code",
   "execution_count": 21,
   "metadata": {
    "collapsed": false
   },
   "outputs": [
    {
     "name": "stdout",
     "output_type": "stream",
     "text": [
      "[16, 47, 49, 51, 59, 69, 78, 79, 81, 90]\n"
     ]
    }
   ],
   "source": [
    "b = heap_sort(a)\n",
    "print b"
   ]
  },
  {
   "cell_type": "markdown",
   "metadata": {},
   "source": [
    "### 算法分析\n",
    "\n",
    "- 选择排序，树形选择排序\n",
    "- 树形选择排序恰好利用树形的特点保存了部分前面的结果，因此可以减少比较次数\n",
    "- 对于n个关键字序列，最坏情况下每个节点需比较log2(n)次，因此其最坏情况下时间复杂度为nlogn\n",
    "- 堆排序为不稳定排序，不适合记录较少的排序"
   ]
  },
  {
   "cell_type": "markdown",
   "metadata": {},
   "source": [
    "### 最小的k个数\n",
    "- 构建最小堆\n",
    "- 循环k次，取最后的k个结果"
   ]
  },
  {
   "cell_type": "code",
   "execution_count": 26,
   "metadata": {
    "collapsed": false
   },
   "outputs": [],
   "source": [
    "def adjust_heap_min(tinput, i, size):\n",
    "    left = 2 * i + 1\n",
    "    right = 2 * i + 2\n",
    "    minIndex = i\n",
    "            \n",
    "    if i < size/2:\n",
    "        if left < size and tinput[left] < tinput[minIndex]:\n",
    "            minIndex =  left\n",
    "        if right < size and tinput[right] < tinput[minIndex]:\n",
    "            minIndex = right\n",
    "        if minIndex != i:\n",
    "            tinput[i], tinput[minIndex] = tinput[minIndex], tinput[i]\n",
    "                    \n",
    "            adjust_heap_min(tinput, minIndex, size)\n",
    "        \n",
    "def build_heap_min(tinput, size):\n",
    "    for i in range(size/2-1, -1, -1):\n",
    "        adjust_heap_min(tinput, i, size)\n",
    "        \n",
    "def find_k_smallest(tinput, k):\n",
    "    if k <= 0 or len(tinput) < k:\n",
    "        return \n",
    "    \n",
    "    else:\n",
    "        size = len(tinput)\n",
    "        build_heap_min(tinput, size)\n",
    "        for i in range(size-1, size-1-k, -1):\n",
    "            tinput[0], tinput[i] = tinput[i], tinput[0]\n",
    "            adjust_heap_min(tinput, 0, i)             \n",
    "        return tinput[size-1: size-1-k: -1]"
   ]
  },
  {
   "cell_type": "code",
   "execution_count": 27,
   "metadata": {
    "collapsed": false
   },
   "outputs": [
    {
     "name": "stdout",
     "output_type": "stream",
     "text": [
      "[38, 90, 5, 18, 99, 58, 71, 5, 7, 61]\n"
     ]
    }
   ],
   "source": [
    "a = get_randomNum(10)\n",
    "print a"
   ]
  },
  {
   "cell_type": "code",
   "execution_count": 28,
   "metadata": {
    "collapsed": false
   },
   "outputs": [
    {
     "name": "stdout",
     "output_type": "stream",
     "text": [
      "[5, 5, 7, 18, 38, 58, 61, 71, 90, 99]\n"
     ]
    }
   ],
   "source": [
    "# 利用大顶堆对全部数据小大排序\n",
    "print heap_sort(a)"
   ]
  },
  {
   "cell_type": "code",
   "execution_count": 29,
   "metadata": {
    "collapsed": false
   },
   "outputs": [
    {
     "name": "stdout",
     "output_type": "stream",
     "text": [
      "[5, 5, 7, 18]\n"
     ]
    }
   ],
   "source": [
    "# 利用小顶堆找出前k大的数\n",
    "print find_k_smallest(a, 4)"
   ]
  },
  {
   "cell_type": "markdown",
   "metadata": {},
   "source": [
    "### 利用最大堆，结果未排序"
   ]
  },
  {
   "cell_type": "code",
   "execution_count": 30,
   "metadata": {
    "collapsed": false
   },
   "outputs": [],
   "source": [
    "def find_k_smallest_2(tinput, k):\n",
    "    if k <= 0 or len(tinput) < k:\n",
    "        return \n",
    "    else:\n",
    "        tinput_k = tinput[:k]\n",
    "        tinput_left = tinput[k:]\n",
    "        build_heap_max(tinput_k, k)\n",
    "        for item in tinput_left:\n",
    "            if tinput_k[0] > item:\n",
    "                tinput_k[0] = item\n",
    "                adjust_heap_max(tinput_k, 0, k)\n",
    "        return tinput_k\n",
    "                "
   ]
  },
  {
   "cell_type": "code",
   "execution_count": 31,
   "metadata": {
    "collapsed": false
   },
   "outputs": [
    {
     "name": "stdout",
     "output_type": "stream",
     "text": [
      "[18, 5, 7, 5]\n"
     ]
    }
   ],
   "source": [
    "print find_k_smallest_2(a, 4)"
   ]
  },
  {
   "cell_type": "code",
   "execution_count": null,
   "metadata": {
    "collapsed": true
   },
   "outputs": [],
   "source": []
  }
 ],
 "metadata": {
  "kernelspec": {
   "display_name": "Python 2",
   "language": "python",
   "name": "python2"
  },
  "language_info": {
   "codemirror_mode": {
    "name": "ipython",
    "version": 2
   },
   "file_extension": ".py",
   "mimetype": "text/x-python",
   "name": "python",
   "nbconvert_exporter": "python",
   "pygments_lexer": "ipython2",
   "version": "2.7.12"
  }
 },
 "nbformat": 4,
 "nbformat_minor": 2
}
